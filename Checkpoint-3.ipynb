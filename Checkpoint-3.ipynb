{
  "nbformat": 4,
  "nbformat_minor": 0,
  "metadata": {
    "colab": {
      "provenance": [],
      "authorship_tag": "ABX9TyPdBmVTQ0ZMNQx+qxp2BJHz",
      "include_colab_link": true
    },
    "kernelspec": {
      "name": "python3",
      "display_name": "Python 3"
    },
    "language_info": {
      "name": "python"
    }
  },
  "cells": [
    {
      "cell_type": "markdown",
      "metadata": {
        "id": "view-in-github",
        "colab_type": "text"
      },
      "source": [
        "<a href=\"https://colab.research.google.com/github/kenilv/woc5.0-ml-weather-prediction-case-study-Kenil_Vaghasiya/blob/main/Checkpoint-3.ipynb\" target=\"_parent\"><img src=\"https://colab.research.google.com/assets/colab-badge.svg\" alt=\"Open In Colab\"/></a>"
      ]
    },
    {
      "cell_type": "code",
      "execution_count": null,
      "metadata": {
        "id": "mYbigxh88VLZ"
      },
      "outputs": [],
      "source": [
        "import pandas as pd"
      ]
    },
    {
      "cell_type": "markdown",
      "source": [
        "Converting dataset into dataframes"
      ],
      "metadata": {
        "id": "i-CVhfruK5CZ"
      }
    },
    {
      "cell_type": "code",
      "source": [
        "carprice = pd.read_csv('CarPrice_Assignment.csv')\n",
        "weather = pd.read_csv('weather.csv')\n",
        "youtube = pd.read_csv('Youtube.csv', sep=\";\", encoding='cp1252')"
      ],
      "metadata": {
        "id": "AkI6yyF9LGpF"
      },
      "execution_count": null,
      "outputs": []
    },
    {
      "cell_type": "markdown",
      "source": [
        "checking the missing values and replacing it with appropriate values.\n",
        "\n",
        "(Here, I didn't find any, so I made one and then solved it.)"
      ],
      "metadata": {
        "id": "qDFma9Y2LH7g"
      }
    },
    {
      "cell_type": "code",
      "source": [
        "from numpy import NaN\n",
        "\n",
        "carprice.at[1,'CarName']=NaN\n",
        "\n",
        "carprice.isnull().sum()\n",
        "\n",
        "carprice.CarName.fillna(\"Unknown\")"
      ],
      "metadata": {
        "colab": {
          "base_uri": "https://localhost:8080/"
        },
        "id": "T8LrGVylLOor",
        "outputId": "9c35015d-e338-45c4-8992-a53be3caac1b"
      },
      "execution_count": 24,
      "outputs": [
        {
          "output_type": "execute_result",
          "data": {
            "text/plain": [
              "0            alfa-romero giulia\n",
              "1                       Unknown\n",
              "2      alfa-romero Quadrifoglio\n",
              "3                   audi 100 ls\n",
              "4                    audi 100ls\n",
              "                 ...           \n",
              "200             volvo 145e (sw)\n",
              "201                 volvo 144ea\n",
              "202                 volvo 244dl\n",
              "203                   volvo 246\n",
              "204                 volvo 264gl\n",
              "Name: CarName, Length: 205, dtype: object"
            ]
          },
          "metadata": {},
          "execution_count": 24
        }
      ]
    },
    {
      "cell_type": "markdown",
      "source": [
        "Dropping irrelevant columns"
      ],
      "metadata": {
        "id": "dNPJVKErNRqT"
      }
    },
    {
      "cell_type": "code",
      "source": [
        "carprice.drop(['enginelocation'], axis=1)"
      ],
      "metadata": {
        "id": "movCiBFTNYY-"
      },
      "execution_count": null,
      "outputs": []
    },
    {
      "cell_type": "markdown",
      "source": [
        "Task: Some columns are not statistical data but in the form of strings. It Is difficult for our model to learn when the data is in form of strings. Your task is to encode these strings using proper encoding techniques.\n",
        "\n",
        "sol: So I converted the fueltype column data from ['gas', 'diesel'] to [0, 1] which is integer to make the data access and handelling easier."
      ],
      "metadata": {
        "id": "HIMGUG25PPW2"
      }
    },
    {
      "cell_type": "code",
      "source": [
        "carprice[\"fueltype\"] = carprice[\"fueltype\"].astype(\"category\")\n",
        "carprice['fueltype'].replace(['gas', 'diesel'], [0, 1], inplace=True)"
      ],
      "metadata": {
        "id": "eE5WqR-yPPmG"
      },
      "execution_count": 34,
      "outputs": []
    }
  ]
}